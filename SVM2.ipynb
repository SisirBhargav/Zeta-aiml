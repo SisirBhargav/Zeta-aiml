{
  "nbformat": 4,
  "nbformat_minor": 0,
  "metadata": {
    "colab": {
      "provenance": [],
      "mount_file_id": "16Rxjqu1itOkEV03tNq5Q5Z8_elRafz03",
      "authorship_tag": "ABX9TyNCXohO+NOtlWL8nH+7PvsD",
      "include_colab_link": true
    },
    "kernelspec": {
      "name": "python3",
      "display_name": "Python 3"
    },
    "language_info": {
      "name": "python"
    }
  },
  "cells": [
    {
      "cell_type": "markdown",
      "metadata": {
        "id": "view-in-github",
        "colab_type": "text"
      },
      "source": [
        "<a href=\"https://colab.research.google.com/github/SisirBhargav/Zeta-aiml/blob/main/SVM2.ipynb\" target=\"_parent\"><img src=\"https://colab.research.google.com/assets/colab-badge.svg\" alt=\"Open In Colab\"/></a>"
      ]
    },
    {
      "cell_type": "code",
      "execution_count": 10,
      "metadata": {
        "id": "24LCwNL9tbOv"
      },
      "outputs": [],
      "source": [
        "import pandas as pd\n",
        "import numpy as np\n",
        "from sklearn.model_selection import train_test_split,GridSearchCV\n",
        "from sklearn.svm import SVR\n",
        "from sklearn.metrics import mean_squared_error"
      ]
    },
    {
      "cell_type": "code",
      "source": [
        "#load the dataset\n",
        "file_path=r'/content/drive/MyDrive/Colab Notebooks/pima-indians-diabetes.data.csv'\n",
        "column_names=['Pregnancies','Glucose','BloodPressure','SkinThickness','Insulin','BMI','DiabetesPedigreeFunction','Age','Outcome']\n",
        "df=pd.read_csv(file_path,header=None,names=column_names)"
      ],
      "metadata": {
        "id": "sssVOGDlvlQq"
      },
      "execution_count": 11,
      "outputs": []
    },
    {
      "cell_type": "code",
      "source": [
        "print(df.head())"
      ],
      "metadata": {
        "colab": {
          "base_uri": "https://localhost:8080/"
        },
        "id": "JwVIbaWmvmng",
        "outputId": "5093eac7-9668-4507-da7e-853d9f2f1086"
      },
      "execution_count": 12,
      "outputs": [
        {
          "output_type": "stream",
          "name": "stdout",
          "text": [
            "   Pregnancies  Glucose  BloodPressure  SkinThickness  Insulin   BMI  \\\n",
            "0            6      148             72             35        0  33.6   \n",
            "1            1       85             66             29        0  26.6   \n",
            "2            8      183             64              0        0  23.3   \n",
            "3            1       89             66             23       94  28.1   \n",
            "4            0      137             40             35      168  43.1   \n",
            "\n",
            "   DiabetesPedigreeFunction  Age  Outcome  \n",
            "0                     0.627   50        1  \n",
            "1                     0.351   31        0  \n",
            "2                     0.672   32        1  \n",
            "3                     0.167   21        0  \n",
            "4                     2.288   33        1  \n"
          ]
        }
      ]
    },
    {
      "cell_type": "code",
      "source": [
        "#split data\n",
        "X=df.drop('Outcome',axis=1)\n",
        "y=df['Outcome']\n",
        "X_train,X_test,y_train,y_test=train_test_split(X,y,test_size=0.2,random_state=42)"
      ],
      "metadata": {
        "id": "CyrRlyjuvzAG"
      },
      "execution_count": 13,
      "outputs": []
    },
    {
      "cell_type": "code",
      "source": [
        "#define svr model\n",
        "svr=SVR()"
      ],
      "metadata": {
        "id": "PCRZHocyv7Ad"
      },
      "execution_count": 14,
      "outputs": []
    },
    {
      "cell_type": "code",
      "source": [
        "param_grid={\n",
        "    'C':[0.1,1,10],\n",
        "    'gamma':[0.01,0.1,1],\n",
        "    'kernel':['linear','rbf']\n",
        "}"
      ],
      "metadata": {
        "id": "FryeZfqtv-j1"
      },
      "execution_count": 15,
      "outputs": []
    },
    {
      "cell_type": "code",
      "source": [
        "grid_search=GridSearchCV(estimator=svr,param_grid=param_grid,cv=5,scoring='neg_mean_squared_error')\n",
        "grid_search.fit(X_train,y_train)\n",
        "\n",
        "#get the best parameters and best score from grid search\n",
        "print(\"Best Parameters:\",grid_search.best_params_)\n",
        "print(\"Best cross-validation score(negetive MSE)\",grid_search.best_score_)"
      ],
      "metadata": {
        "id": "XBFKKXp9wehy"
      },
      "execution_count": null,
      "outputs": []
    }
  ]
}