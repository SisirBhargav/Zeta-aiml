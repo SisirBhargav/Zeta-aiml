{
  "nbformat": 4,
  "nbformat_minor": 0,
  "metadata": {
    "colab": {
      "provenance": [],
      "mount_file_id": "1mNrjFdnsiD1Y4Zr0lQuRjp3qDj3-C20K",
      "authorship_tag": "ABX9TyN+LiuxF0cEQuErEKMuwGS7",
      "include_colab_link": true
    },
    "kernelspec": {
      "name": "python3",
      "display_name": "Python 3"
    },
    "language_info": {
      "name": "python"
    }
  },
  "cells": [
    {
      "cell_type": "markdown",
      "metadata": {
        "id": "view-in-github",
        "colab_type": "text"
      },
      "source": [
        "<a href=\"https://colab.research.google.com/github/SisirBhargav/Zeta-aiml/blob/main/Untitled3.ipynb\" target=\"_parent\"><img src=\"https://colab.research.google.com/assets/colab-badge.svg\" alt=\"Open In Colab\"/></a>"
      ]
    },
    {
      "cell_type": "code",
      "source": [
        "!pip install category_encoders"
      ],
      "metadata": {
        "colab": {
          "base_uri": "https://localhost:8080/"
        },
        "id": "JO7JZZfjbkEV",
        "outputId": "3727c907-1a8a-45a0-c4cc-274827b94b2b"
      },
      "execution_count": null,
      "outputs": [
        {
          "output_type": "stream",
          "name": "stdout",
          "text": [
            "Collecting category_encoders\n",
            "  Downloading category_encoders-2.8.1-py3-none-any.whl.metadata (7.9 kB)\n",
            "Requirement already satisfied: numpy>=1.14.0 in /usr/local/lib/python3.11/dist-packages (from category_encoders) (2.0.2)\n",
            "Requirement already satisfied: pandas>=1.0.5 in /usr/local/lib/python3.11/dist-packages (from category_encoders) (2.2.2)\n",
            "Requirement already satisfied: patsy>=0.5.1 in /usr/local/lib/python3.11/dist-packages (from category_encoders) (1.0.1)\n",
            "Requirement already satisfied: scikit-learn>=1.6.0 in /usr/local/lib/python3.11/dist-packages (from category_encoders) (1.6.1)\n",
            "Requirement already satisfied: scipy>=1.0.0 in /usr/local/lib/python3.11/dist-packages (from category_encoders) (1.14.1)\n",
            "Requirement already satisfied: statsmodels>=0.9.0 in /usr/local/lib/python3.11/dist-packages (from category_encoders) (0.14.4)\n",
            "Requirement already satisfied: python-dateutil>=2.8.2 in /usr/local/lib/python3.11/dist-packages (from pandas>=1.0.5->category_encoders) (2.8.2)\n",
            "Requirement already satisfied: pytz>=2020.1 in /usr/local/lib/python3.11/dist-packages (from pandas>=1.0.5->category_encoders) (2025.1)\n",
            "Requirement already satisfied: tzdata>=2022.7 in /usr/local/lib/python3.11/dist-packages (from pandas>=1.0.5->category_encoders) (2025.1)\n",
            "Requirement already satisfied: joblib>=1.2.0 in /usr/local/lib/python3.11/dist-packages (from scikit-learn>=1.6.0->category_encoders) (1.4.2)\n",
            "Requirement already satisfied: threadpoolctl>=3.1.0 in /usr/local/lib/python3.11/dist-packages (from scikit-learn>=1.6.0->category_encoders) (3.6.0)\n",
            "Requirement already satisfied: packaging>=21.3 in /usr/local/lib/python3.11/dist-packages (from statsmodels>=0.9.0->category_encoders) (24.2)\n",
            "Requirement already satisfied: six>=1.5 in /usr/local/lib/python3.11/dist-packages (from python-dateutil>=2.8.2->pandas>=1.0.5->category_encoders) (1.17.0)\n",
            "Downloading category_encoders-2.8.1-py3-none-any.whl (85 kB)\n",
            "\u001b[2K   \u001b[90m━━━━━━━━━━━━━━━━━━━━━━━━━━━━━━━━━━━━━━━━\u001b[0m \u001b[32m85.7/85.7 kB\u001b[0m \u001b[31m3.4 MB/s\u001b[0m eta \u001b[36m0:00:00\u001b[0m\n",
            "\u001b[?25hInstalling collected packages: category_encoders\n",
            "Successfully installed category_encoders-2.8.1\n"
          ]
        }
      ]
    },
    {
      "cell_type": "code",
      "execution_count": null,
      "metadata": {
        "id": "HsGnCh4bWErs"
      },
      "outputs": [],
      "source": [
        "import pandas as pd\n",
        "import numpy as np\n",
        "import seaborn as sns\n",
        "import matplotlib.pyplot as plt\n",
        "from sklearn.model_selection import train_test_split, GridSearchCV\n",
        "from sklearn.preprocessing import StandardScaler, OneHotEncoder, MinMaxScaler\n",
        "from sklearn.decomposition import PCA\n",
        "from sklearn.compose import ColumnTransformer\n",
        "from sklearn.ensemble import RandomForestRegressor\n",
        "from sklearn.tree import DecisionTreeRegressor\n",
        "from sklearn.feature_selection import RFE\n",
        "from sklearn.metrics import mean_absolute_error, mean_squared_error, r2_score\n",
        "import joblib\n",
        "import os\n",
        "\n",
        "# Load dataset\n",
        "file_path = \"/content/drive/MyDrive/Colab Notebooks/restaurant_recommendation_dataset.csv\"\n",
        "df = pd.read_csv(file_path)\n",
        "\n",
        "# Drop irrelevant columns\n",
        "if \"user_id\" in df.columns:\n",
        "    df = df.drop(columns=[\"user_id\"])\n",
        "\n",
        "# Define target variable\n",
        "target_column = \"rating\"\n",
        "X = df.drop(columns=[target_column])\n",
        "y = df[target_column]\n",
        "\n",
        "# Normalize ratings\n",
        "y = MinMaxScaler().fit_transform(y.values.reshape(-1, 1)).flatten()\n",
        "\n",
        "# Identify categorical and numerical columns\n",
        "categorical_cols = X.select_dtypes(include=['object']).columns.tolist()\n",
        "numerical_cols = X.select_dtypes(include=['number']).columns.tolist()\n",
        "\n",
        "# Drop highly correlated features (> 0.9 correlation)\n",
        "thresh = 0.9\n",
        "corr_matrix = df[numerical_cols].corr()\n",
        "correlated_features = set()\n",
        "for i in range(len(corr_matrix.columns)):\n",
        "    for j in range(i):\n",
        "        if abs(corr_matrix.iloc[i, j]) > thresh:\n",
        "            correlated_features.add(corr_matrix.columns[i])\n",
        "X = X.drop(columns=correlated_features, errors='ignore')\n",
        "numerical_cols = list(set(numerical_cols) - correlated_features)\n",
        "\n",
        "# Standard Scaling for numerical columns\n",
        "scaler = StandardScaler()\n",
        "X[numerical_cols] = scaler.fit_transform(X[numerical_cols])\n",
        "\n",
        "# One-hot encoding for categorical features\n",
        "preprocessor = ColumnTransformer(\n",
        "    transformers=[(\"cat\", OneHotEncoder(handle_unknown='ignore'), categorical_cols)], remainder=\"passthrough\")\n",
        "X = preprocessor.fit_transform(X)\n",
        "\n",
        "# Feature Selection using RFE\n",
        "estimator = RandomForestRegressor()\n",
        "rfe = RFE(estimator, n_features_to_select=10)\n",
        "X = rfe.fit_transform(X, y)\n",
        "\n",
        "# Train-test split\n",
        "X_train, X_test, y_train, y_test = train_test_split(X, y, test_size=0.2, random_state=42)\n",
        "\n",
        "# Models with Hyperparameter Tuning (Reduced Training Time)\n",
        "models = {\n",
        "    \"Decision Tree\": GridSearchCV(DecisionTreeRegressor(), param_grid={'max_depth': [5, 10]}, cv=3),\n",
        "    \"Random Forest\": GridSearchCV(RandomForestRegressor(), param_grid={'n_estimators': [50, 100], 'max_depth': [5, 10]}, cv=3)\n",
        "}\n",
        "\n",
        "# Train and evaluate models\n",
        "results = {}\n",
        "for name, model in models.items():\n",
        "    print(f\"Training {name}...\")\n",
        "    model.fit(X_train, y_train)\n",
        "    best_model = model.best_estimator_\n",
        "    y_pred = best_model.predict(X_test)\n",
        "    results[name] = {\n",
        "        \"MAE\": mean_absolute_error(y_test, y_pred),\n",
        "        \"MSE\": mean_squared_error(y_test, y_pred),\n",
        "        \"R²\": r2_score(y_test, y_pred),\n",
        "        \"Best Params\": model.best_params_\n",
        "    }\n",
        "    joblib.dump(best_model, f\"{name.replace(' ', '_')}_model.pkl\")\n",
        "\n",
        "# Print results\n",
        "print(\"\\nModel Performance:\")\n",
        "for name, metrics in results.items():\n",
        "    print(f\"{name} -> MAE: {metrics['MAE']:.4f}, MSE: {metrics['MSE']:.4f}, R²: {metrics['R²']:.4f}\")\n",
        "    print(f\"Best Parameters: {metrics['Best Params']}\")\n"
      ]
    },
    {
      "cell_type": "code",
      "source": [
        "import pandas as pd\n",
        "import numpy as np\n",
        "import seaborn as sns\n",
        "import matplotlib.pyplot as plt\n",
        "\n",
        "# Load dataset\n",
        "file_path = \"/content/drive/MyDrive/Colab Notebooks/restaurant_recommendation_dataset.csv\"\n",
        "df = pd.read_csv(file_path)\n",
        "df['restaurant_name']\n",
        "# Select only numerical columns\n",
        "numerical_cols = df.select_dtypes(include=['number']).columns\n",
        "df_numerical = df[numerical_cols]\n",
        "\n",
        "# Compute correlation matrix\n",
        "correlation_matrix = df_numerical.corr()\n",
        "\n",
        "# Plot the heatmap\n",
        "plt.figure(figsize=(10, 6))\n",
        "sns.heatmap(correlation_matrix, annot=True, cmap=\"coolwarm\", fmt=\".2f\", linewidths=0.5)\n",
        "plt.title(\"Correlation Heatmap\")\n",
        "plt.show()\n"
      ],
      "metadata": {
        "id": "NlfyxW760eSR"
      },
      "execution_count": null,
      "outputs": []
    }
  ]
}